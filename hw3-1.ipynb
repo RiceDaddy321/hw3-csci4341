{
 "cells": [
  {
   "cell_type": "code",
   "execution_count": null,
   "metadata": {
    "collapsed": true,
    "pycharm": {
     "is_executing": true
    }
   },
   "outputs": [],
   "source": [
    "from keras.models import Sequential\n",
    "from keras.layers import Embedding, Dropout, Conv1D, MaxPool1D, LSTM, Dense, Activation\n",
    "from keras.utils import pad_sequences, to_categorical\n",
    "import numpy as np\n",
    "import pandas as pd\n",
    "from keras.preprocessing.text import Tokenizer\n",
    "from sklearn.model_selection import train_test_split\n"
   ]
  },
  {
   "cell_type": "code",
   "execution_count": 2,
   "outputs": [],
   "source": [
    "f = open(\"Video_Games.json\")\n",
    "\n",
    "df = pd.read_json(f, lines=True)\n",
    "df = df[['overall', 'reviewText']]\n",
    "df = df.dropna()\n",
    "df = df.reset_index(drop=True)\n",
    "\n",
    "df = np.array(df)"
   ],
   "metadata": {
    "collapsed": false
   }
  },
  {
   "cell_type": "code",
   "execution_count": 3,
   "outputs": [],
   "source": [
    "(y_train, y_test, x_train, x_test) = train_test_split(df[:, 0], df[:, 1], test_size=0.2, random_state=42)"
   ],
   "metadata": {
    "collapsed": false
   }
  },
  {
   "cell_type": "code",
   "execution_count": 4,
   "outputs": [
    {
     "data": {
      "text/plain": "array([\"I'm a sucker for all these LED items by Razer. This is a killer addition. I get a lot of dropped jaws when people see the game room thanks to this. You can sync up the mouse, keyboard and mouse pad to loop the same color at the same time.\",\n       \"I'm not about to pay 60$ for a pc game no matter how well it may sell.\",\n       \"With one quick dash for cookies, the cable connection for this controller went out faster than most people's lame joke when eating Taco Bell.  It is ideal for chill adult but not quite right for kiddos.\",\n       ...,\n       \"Seems to be good quality and for $5 you can't go wrong.  My ps4 controller thumbsticks were wearing out so I bought these to protect them.  Fits well and hasn't fallen off yet.\",\n       \"While good ol' Crash Bandicoot has expanded his horizons on the Playstation 2 and Xbox, Vicarious Visions seems to have decided to hold back for the marsupial's then-latest Game Boy Advance title, Crash Purple. On the surface, it seems like it would be a pretty epic crossover between Crash and Spyro; after all, the two have been seen as partners/rivals ever since they gained dominance over the Playstation as unofficial mascots. Unfortunately, what we're provided with here is not anything that a regular Crash Bandicoot platformer can't triumph over...because platforming is not this game's ideal gameplay.\\n\\nCrash Purple is a collection of minigames that consist of various different gameplay styles, such as hopping on crates, riding to the goal, jet tubing, navigating via tank, etc, while the usual platforming formula is demoted to glorified HUB worlds. Yes, this is what the formation of a Spyro and Crash crossover has led up to. To be fair, though, a lot of the minigames aren't half-bad. They all have an emphasis on arcade-style mechanics and simplicity, basically serving as bite-sized levels that happen to shift between different types of gameplay. That said, you better make sure you get all the Crystals (by beating the minigames) and Gems (by smashing all the crates in the minigames), because unlike the previous GBA Crash games where you just get a not-so-ceremonious ending without collecting them, this game WILL NOT let you progress to the final part without them.\\n\\nWhat also helps add to this cartridge is that, just like the GBA version of Crash Nitro Kart, there's a hidden minigame that is accessed by holding L and R while booting up the game. That minigame is called Spyro Party USA, which is literally Crash Party USA from Nitro Kart, except with Spyro dancing onscreen instead of Crash. Nevertheless, it's a simple and fun rhythm game with addictive qualities to it such as the Crash-esc music enhanced by electronic beats, and the nature of the rhythm genre in general.\\n\\nAs for Crash Purple as a whole? It's a fun game, but I personally prefer its predecessors if you want a great Crash experience on the go.\",\n       \"YES! buy it right now, totally worth it. i've spent a shameful amount of time with this game\"],\n      dtype=object)"
     },
     "execution_count": 4,
     "metadata": {},
     "output_type": "execute_result"
    }
   ],
   "source": [
    "x_train"
   ],
   "metadata": {
    "collapsed": false
   }
  },
  {
   "cell_type": "code",
   "execution_count": 5,
   "outputs": [
    {
     "data": {
      "text/plain": "array(['my grandaughter love it.',\n       \"Finally, someone listened.  What with all the 3D hoopla and the console wars, someone out there hasn't forgotten the pleasures of 2D gaming.  Thank you, Konami, for Contra: Shattered Soldier.\\nAfter two horrendous outings on the original PlayStation, one of the most beloved franchises in gaming history has returned with a vengeance...and yes, it's in 2D!  Old-schoolers rejoice - you've now got a reason to bring those long-forgotten razor-sharp reflexes out of the closet.  Contra: SS takes a few liberties with the old formula, but the result is a gorgeous, difficult throwback that will bring back all those memories.  Contra is back in a big way.  If you played, and enjoyed, any of the previous Contra games, you'll fall for Shattered Soldier big time.  Everything's here, and then some.\\nFor those too young to remember: prepare yourself for a gaming experience unlike any other.  Contra: Shattered Soldier is a side-scrolling action shooter in which you must survive by destroying everything in sight - in fact, you're actually GRADED by how much you destroy via a readout called Hit Rate %.  You control master criminal Bill Rizer (released from a cryosleep prison sentence for killing 80% of the world's population - how's that for over-the-top, eh?) or his female android companion Lucia, sent to save post-apocalyptic Earth from swarms of some of the most disgusting yet glorious aliens to ever grace a console.  The set-up is simple:  move left to right and fire away at approaching enemies.  You can fire your three weapons in any of eight directions, ducking or jumping as the situation demands.  You'll hang from ledges, crawl up walls, and be slung airborne underneath a guided missile.  You'll ride a hoverbike and ski down a snowy mountain.  You'll be attacked by everything from gigantic water-skiing mechs to mechanized turrets to hideous mutant fish to screen-filling monstrosities that almost defy description.  The game fits its Shattered Soldier name all too well:  touch an enemy - you're dead.  Get hit by explosive vomit - you're dead.  Get nailed by a bullet, rocket, laser, or explosion - you're dead.  Get carried away by giant insects - you're dead.  There are lots of ways to die in Contra: SS, and by the time you're done, you'll lose count, it'll happen so often.  Play alone or with a friend for some co-op action - you'll need the help.  Choose at any time from a machine gun, flame thrower, or grenade launcher (each equipped with a chargeable special attack), and don't worry about running out of ammo - you won't.  The name of the game is run n gun.  If you're lucky and good enough to make it through all the levels alive, unlockables await.  You see, this is how gaming used to be - trial and error, rock-hard challenge, pattern memorization.  You'll progress slowly, but each time you'll make it a little farther and be presented with another disgusting alien just begging to be blown to slimy bits.  Eventually, with practice, you'll emerge victorious, and wonder why more games these days don't feel like Contra: Shattered Soldier.  It's one of the most intense rides you can take on the PS2 - enjoy it, for it may be one of the last.\\nEnthusiastically recommended - Konami has created one of the best games of the year, and one not to be missed by anyone who craves a masterfully executed, adrenaline-pumping thrill ride.  Here's hoping more developers follow their lead!\",\n       'game arrived on time, well packaged, correct game inside unlike a game that i ordered from another company on the same day. it was for my sons 9th birthday, of course all of the children love sponge bob and from the time my son opened the gift he played it all of the night and he plays that game more frequently than the others',\n       ...,\n       \"The quality of this product is fantastic! It looks amazing on my 3DS XL! I couldn't be happier!\",\n       \"The game is alright, im not saying i didn't have any fun with it cause i did but after a couple of hours it gets repetitive. I would recommend as a good rental but thats pretty much it.\",\n       'Lego video game'], dtype=object)"
     },
     "execution_count": 5,
     "metadata": {},
     "output_type": "execute_result"
    }
   ],
   "source": [
    "x_test"
   ],
   "metadata": {
    "collapsed": false
   }
  },
  {
   "cell_type": "code",
   "execution_count": 6,
   "outputs": [],
   "source": [
    "# Tokenize our stuff\n",
    "tokenizer = Tokenizer(num_words=5000)\n",
    "tokenizer.fit_on_texts(x_train)\n",
    "x_train = tokenizer.texts_to_sequences(x_train)\n",
    "x_test = tokenizer.texts_to_sequences(x_test)\n"
   ],
   "metadata": {
    "collapsed": false
   }
  },
  {
   "cell_type": "code",
   "execution_count": 7,
   "outputs": [],
   "source": [
    "# padding\n",
    "x_train = pad_sequences(x_train, maxlen=100)\n",
    "x_test = pad_sequences(x_test, maxlen=100)"
   ],
   "metadata": {
    "collapsed": false
   }
  },
  {
   "cell_type": "code",
   "execution_count": 8,
   "outputs": [],
   "source": [
    "# one-hot encoding\n",
    "y_train = to_categorical(y_train)\n",
    "y_test = to_categorical(y_test)"
   ],
   "metadata": {
    "collapsed": false
   }
  },
  {
   "cell_type": "code",
   "execution_count": 9,
   "outputs": [
    {
     "data": {
      "text/plain": "2050907"
     },
     "execution_count": 9,
     "metadata": {},
     "output_type": "execute_result"
    }
   ],
   "source": [
    "len(y_train)"
   ],
   "metadata": {
    "collapsed": false
   }
  },
  {
   "cell_type": "code",
   "execution_count": 10,
   "outputs": [
    {
     "name": "stdout",
     "output_type": "stream",
     "text": [
      "Model: \"sequential\"\n",
      "_________________________________________________________________\n",
      " Layer (type)                Output Shape              Param #   \n",
      "=================================================================\n",
      " embedding (Embedding)       (None, None, 100)         205090700 \n",
      "                                                                 \n",
      " dropout (Dropout)           (None, None, 100)         0         \n",
      "                                                                 \n",
      " conv1d (Conv1D)             (None, None, 64)          32064     \n",
      "                                                                 \n",
      " max_pooling1d (MaxPooling1D  (None, None, 64)         0         \n",
      " )                                                               \n",
      "                                                                 \n",
      " lstm (LSTM)                 (None, 55)                26400     \n",
      "                                                                 \n",
      " dense (Dense)               (None, 6)                 336       \n",
      "                                                                 \n",
      "=================================================================\n",
      "Total params: 205,149,500\n",
      "Trainable params: 205,149,500\n",
      "Non-trainable params: 0\n",
      "_________________________________________________________________\n"
     ]
    }
   ],
   "source": [
    "# model, compile, and train\n",
    "\n",
    "model = Sequential()\n",
    "model.add(Embedding(len(y_train), 100))\n",
    "model.add(Dropout(0.5))\n",
    "model.add(Conv1D(64, 5, padding='valid', activation='relu', strides=1))\n",
    "model.add(MaxPool1D(pool_size=4))\n",
    "model.add(LSTM(55))\n",
    "model.add(Dense(6))\n",
    "\n",
    "model.summary()"
   ],
   "metadata": {
    "collapsed": false
   }
  },
  {
   "cell_type": "code",
   "execution_count": null,
   "outputs": [
    {
     "name": "stdout",
     "output_type": "stream",
     "text": [
      "Epoch 1/10\n",
      "19232/20510 [===========================>..] - ETA: 1:28 - loss: 11.5605 - acc: 0.5795"
     ]
    }
   ],
   "source": [
    "\n",
    "model.compile(loss='categorical_crossentropy', optimizer='adam', metrics=['acc'])\n",
    "\n",
    "history = model.fit(x_train, y_train, batch_size=100, epochs=10, validation_data=(x_test, y_test))\n"
   ],
   "metadata": {
    "collapsed": false,
    "pycharm": {
     "is_executing": true
    }
   }
  },
  {
   "cell_type": "code",
   "execution_count": null,
   "outputs": [],
   "source": [],
   "metadata": {
    "collapsed": false,
    "pycharm": {
     "is_executing": true
    }
   }
  }
 ],
 "metadata": {
  "kernelspec": {
   "display_name": "Python 3",
   "language": "python",
   "name": "python3"
  },
  "language_info": {
   "codemirror_mode": {
    "name": "ipython",
    "version": 2
   },
   "file_extension": ".py",
   "mimetype": "text/x-python",
   "name": "python",
   "nbconvert_exporter": "python",
   "pygments_lexer": "ipython2",
   "version": "2.7.6"
  }
 },
 "nbformat": 4,
 "nbformat_minor": 0
}
